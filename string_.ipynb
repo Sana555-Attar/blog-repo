{
  "nbformat": 4,
  "nbformat_minor": 0,
  "metadata": {
    "colab": {
      "name": "  string_.ipynb",
      "provenance": [],
      "collapsed_sections": [],
      "authorship_tag": "ABX9TyMF4iAM4YiuIEm/om/jdBlR",
      "include_colab_link": true
    },
    "kernelspec": {
      "name": "python3",
      "display_name": "Python 3"
    }
  },
  "cells": [
    {
      "cell_type": "markdown",
      "metadata": {
        "id": "view-in-github",
        "colab_type": "text"
      },
      "source": [
        "<a href=\"https://colab.research.google.com/github/Sana555-Attar/blog-repo/blob/master/string_.ipynb\" target=\"_parent\"><img src=\"https://colab.research.google.com/assets/colab-badge.svg\" alt=\"Open In Colab\"/></a>"
      ]
    },
    {
      "cell_type": "code",
      "metadata": {
        "colab": {
          "base_uri": "https://localhost:8080/"
        },
        "id": "ZyrE9RV92doI",
        "outputId": "0d49fa81-fc8a-444d-e41a-d3c90372882d"
      },
      "source": [
        "#(2)write a python program to count the number of words in a astring?\n",
        "s=input(\"enter the string\")\n",
        "count=1\n",
        "for i in s:\n",
        "    if(i==\" \"):\n",
        "        count=count+1\n",
        "      \n",
        "print(count)      \n",
        "      \n"
      ],
      "execution_count": null,
      "outputs": [
        {
          "output_type": "stream",
          "text": [
            "enter the stringpentagon space bangalore\n",
            "3\n"
          ],
          "name": "stdout"
        }
      ]
    },
    {
      "cell_type": "code",
      "metadata": {
        "colab": {
          "base_uri": "https://localhost:8080/"
        },
        "id": "YoRO9aWzGOPD",
        "outputId": "655886f3-d7f0-45ba-ffde-fddb8eda30bb"
      },
      "source": [
        "\n",
        "#(10)how to get index of all character in string in python?\n",
        "s=input(\"enter str:\")\n",
        "l=len(s)\n",
        "print(\"value:index\")\n",
        "for i in range(0,l):\n",
        "    print(s[i],\" \",end=\"\")\n",
        "    print(s.index(s[i]))\n"
      ],
      "execution_count": null,
      "outputs": [
        {
          "output_type": "stream",
          "text": [
            "enter str:penta\n",
            "value:index\n",
            "p  0\n",
            "e  1\n",
            "n  2\n",
            "t  3\n",
            "a  4\n"
          ],
          "name": "stdout"
        }
      ]
    },
    {
      "cell_type": "code",
      "metadata": {
        "colab": {
          "base_uri": "https://localhost:8080/"
        },
        "id": "qEtWxOKOWbvX",
        "outputId": "77d5b5c4-56ef-4dc2-ca35-da8f16624890"
      },
      "source": [
        "#(8)how do you convert string to integer and integer to string?\n",
        "s=input(print(\"number\"))\n",
        "print(type(s))\n",
        "print(type(int(s)))\n",
        "\n",
        "n=10\n",
        "print(n)\n",
        "print(type(n))\n",
        "print(type(str(n)))\n"
      ],
      "execution_count": null,
      "outputs": [
        {
          "output_type": "stream",
          "text": [
            "number\n",
            "5\n",
            "<class 'str'>\n",
            "<class 'int'>\n",
            "10\n",
            "<class 'int'>\n",
            "<class 'str'>\n"
          ],
          "name": "stdout"
        }
      ]
    },
    {
      "cell_type": "code",
      "metadata": {
        "colab": {
          "base_uri": "https://localhost:8080/"
        },
        "id": "YgKGJoWVZ0cn",
        "outputId": "a926b166-0b4a-4640-f6ef-d4f13671f39a"
      },
      "source": [
        "#(9)write a python pgm to find the percentage of uppercase letters ,lowercase letters,digits and special characters in a given str?\n",
        "str=input(print(\"enter the str:\"))\n",
        "l=len(str)\n",
        "cl=0\n",
        "cp=0\n",
        "cd=0\n",
        "cs=0\n",
        "for i in str:\n",
        "  if (i.islower()):\n",
        "    cl=cl+1\n",
        "  elif (i.isupper()):\n",
        "    cp=cp+1\n",
        "  elif (i.isdigit()):\n",
        "    cd=cd+1\n",
        "  else:\n",
        "    cs=cs+1\n",
        "lper=(cl/l)*100\n",
        "uper=(cp/l)*100\n",
        "dper=(cd/l)*100\n",
        "cper=(cs/l)*100\n",
        "print(\"lowercase percentage:\",lper)\n",
        "print(\"uppercase percentage:\",uper)\n",
        "print(\"digit percentage:\",dper)\n",
        "print(\"specialchar percentage:\",cper)\n",
        "\n"
      ],
      "execution_count": null,
      "outputs": [
        {
          "output_type": "stream",
          "text": [
            "enter the str:\n",
            "iNdIa@786\n",
            "lowercase percentage: 33.33333333333333\n",
            "uppercase percentage: 22.22222222222222\n",
            "digit percentage: 33.33333333333333\n",
            "specialchar percentage: 11.11111111111111\n"
          ],
          "name": "stdout"
        }
      ]
    },
    {
      "cell_type": "code",
      "metadata": {
        "colab": {
          "base_uri": "https://localhost:8080/"
        },
        "id": "schkk_J1E514",
        "outputId": "3db206eb-f392-4bf7-fe41-c1a7d0aaef65"
      },
      "source": [
        "#(4)write a python program to reverse a string?\n",
        "=input(\"enter the string\")\n",
        "r=s[::-1]\n",
        "print(r)"
      ],
      "execution_count": null,
      "outputs": [
        {
          "output_type": "stream",
          "text": [
            "enter the stringsana\n",
            "anas\n"
          ],
          "name": "stdout"
        }
      ]
    },
    {
      "cell_type": "code",
      "metadata": {
        "colab": {
          "base_uri": "https://localhost:8080/"
        },
        "id": "7jZvOu0mFbxl",
        "outputId": "6bf3b95a-ff3e-448e-d165-0799d38b4b73"
      },
      "source": [
        "#(5)write a python program to count the number of occurance of each character in a string?\n",
        "str=input(\"enter the string\")\n",
        "freq={}\n",
        "for c in str:\n",
        "  if c in freq:\n",
        "    freq[c]+=1\n",
        "  else:\n",
        "     freq[c]=1 \n",
        "print(freq)     \n"
      ],
      "execution_count": null,
      "outputs": [
        {
          "output_type": "stream",
          "text": [
            "enter the stringsana\n",
            "{'s': 1, 'a': 2, 'n': 1}\n"
          ],
          "name": "stdout"
        }
      ]
    },
    {
      "cell_type": "code",
      "metadata": {
        "id": "3bBgHNXlZbRv",
        "colab": {
          "base_uri": "https://localhost:8080/"
        },
        "outputId": "e2ce1bc1-a6ea-420c-e0bc-b38703466548"
      },
      "source": [
        "#(3)write a python program to count the total number of occurance of a given character in string?\n",
        "\n",
        "str=input(\"enter the str:\")\n",
        "char=input(\"enter th char:\")\n",
        "count=0\n",
        "for c in s:\n",
        "  if(c==char):\n",
        "       count=count+1\n",
        "print(count)\n"
      ],
      "execution_count": null,
      "outputs": [
        {
          "output_type": "stream",
          "text": [
            "enter the str:pentagon space\n",
            "enter th char:p\n",
            "2\n"
          ],
          "name": "stdout"
        }
      ]
    },
    {
      "cell_type": "code",
      "metadata": {
        "colab": {
          "base_uri": "https://localhost:8080/"
        },
        "id": "QGgsR2iGH6Ja",
        "outputId": "08338a32-d8e3-488a-8375-bad3dde1db58"
      },
      "source": [
        "#(6)write a python program to remove all white spaces from a string?\n",
        "str=input(\"enter the string:\")\n",
        "newstr=\" \"\n",
        "for char in str:\n",
        "  if(char!=\" \"):\n",
        "       newstr=newstr+char\n",
        "print(newstr) "
      ],
      "execution_count": null,
      "outputs": [
        {
          "output_type": "stream",
          "text": [
            "enter the string:pentagon space\n",
            " pentagonspace\n"
          ],
          "name": "stdout"
        }
      ]
    },
    {
      "cell_type": "code",
      "metadata": {
        "colab": {
          "base_uri": "https://localhost:8080/"
        },
        "id": "YZw533Zoe31N",
        "outputId": "b7b22ec2-efe8-4949-eaf9-de6827a2814f"
      },
      "source": [
        "#(1)write a python program to find the duplicate words and their number of occurance ?\n",
        "str_list=[]\n",
        "print(\"enter the number of string\")\n",
        "choice=int(input())\n",
        "\n",
        "print(\"enter the words\")\n",
        "for i in range(choice):\n",
        "    words=input()\n",
        "    str_list.append(words)\n",
        "f={}\n",
        "\n",
        "for i in str_list:\n",
        "    if(i in f):\n",
        "        f[i]+=1\n",
        "    else:\n",
        "        f[i]=1\n",
        "\n",
        "for key,value in f.items():\n",
        "    print(key,\"=\",value)       \n",
        "\n",
        "\n"
      ],
      "execution_count": null,
      "outputs": [
        {
          "output_type": "stream",
          "text": [
            "enter the number of string\n",
            "6\n",
            "enter the words\n",
            "black\n",
            "white\n",
            "white\n",
            "black\n",
            "green\n",
            "yellow\n",
            "black = 2\n",
            "white = 2\n",
            "green = 1\n",
            "yellow = 1\n"
          ],
          "name": "stdout"
        }
      ]
    },
    {
      "cell_type": "code",
      "metadata": {
        "colab": {
          "base_uri": "https://localhost:8080/"
        },
        "id": "cNVSrOXYlZi0",
        "outputId": "8bb78d26-4635-4e83-8fcb-19233db45bf5"
      },
      "source": [
        "#(7)write a python pgm to find duplicate characters ina string?\n",
        "str_list=[]\n",
        "print(\"enter the str:\")\n",
        "str_list=input()\n",
        "\n",
        "f={}\n",
        "\n",
        "for i in str_list:\n",
        "    if (i!=\" \"):\n",
        "        if (i in f):\n",
        "            f[i]+=1\n",
        "        else:\n",
        "            f[i]=1\n",
        "\n",
        "for key,value in f.items():\n",
        "    if (value>1):\n",
        "        print(key)            \n",
        "\n",
        "   "
      ],
      "execution_count": null,
      "outputs": [
        {
          "output_type": "stream",
          "text": [
            "enter the str:\n",
            "pentagon space\n",
            "p\n",
            "e\n",
            "n\n",
            "a\n"
          ],
          "name": "stdout"
        }
      ]
    }
  ]
}