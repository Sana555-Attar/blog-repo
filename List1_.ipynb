{
  "nbformat": 4,
  "nbformat_minor": 0,
  "metadata": {
    "colab": {
      "name": " List1_.ipynb",
      "provenance": [],
      "collapsed_sections": [],
      "include_colab_link": true
    },
    "kernelspec": {
      "name": "python3",
      "display_name": "Python 3"
    }
  },
  "cells": [
    {
      "cell_type": "markdown",
      "metadata": {
        "id": "view-in-github",
        "colab_type": "text"
      },
      "source": [
        "<a href=\"https://colab.research.google.com/github/Sana555-Attar/blog-repo/blob/master/List1_.ipynb\" target=\"_parent\"><img src=\"https://colab.research.google.com/assets/colab-badge.svg\" alt=\"Open In Colab\"/></a>"
      ]
    },
    {
      "cell_type": "code",
      "metadata": {
        "colab": {
          "base_uri": "https://localhost:8080/"
        },
        "id": "8ytA-nz1Hjyq",
        "outputId": "d59ee5ab-ae87-4e48-a0f2-008c1eb6a10b"
      },
      "source": [
        "#(1)write a python code to print all negative elements in an list\n",
        "L=[2,3,4,-2]\n",
        "for i in L:\n",
        "   if (i<0):\n",
        "        print(i)"
      ],
      "execution_count": null,
      "outputs": [
        {
          "output_type": "stream",
          "text": [
            "-2\n"
          ],
          "name": "stdout"
        }
      ]
    },
    {
      "cell_type": "code",
      "metadata": {
        "colab": {
          "base_uri": "https://localhost:8080/"
        },
        "id": "hAEF_wA2H-q9",
        "outputId": "3c79476b-597f-416e-a2ba-246a6a5b3b81"
      },
      "source": [
        "#(2)write a python code to find sum of all list elements?\n",
        "L=[1,2,3,4,5]\n",
        "sum=0\n",
        "for i in L:\n",
        "  sum=sum+i\n",
        "print(sum)\n"
      ],
      "execution_count": null,
      "outputs": [
        {
          "output_type": "stream",
          "text": [
            "15\n"
          ],
          "name": "stdout"
        }
      ]
    },
    {
      "cell_type": "code",
      "metadata": {
        "colab": {
          "base_uri": "https://localhost:8080/"
        },
        "id": "hHHwBHovImUT",
        "outputId": "c656e21b-0e37-4958-a3dd-2fa7d392f624"
      },
      "source": [
        "#(3)write a python code to find max and min element in list?\n",
        "L=[1,2,3,4,5]\n",
        "s=max(L)\n",
        "p=min(L)\n",
        "print(s)\n",
        "print(p)"
      ],
      "execution_count": null,
      "outputs": [
        {
          "output_type": "stream",
          "text": [
            "5\n",
            "1\n"
          ],
          "name": "stdout"
        }
      ]
    },
    {
      "cell_type": "code",
      "metadata": {
        "colab": {
          "base_uri": "https://localhost:8080/"
        },
        "id": "gM4oJfEtKCfD",
        "outputId": "8377dd49-629c-46df-9324-baccb5c58bd4"
      },
      "source": [
        "#(4)write a python code to find second largest element in list?\n",
        "l=[5,3,4,1,2]\n",
        "l.sort(reverse=True)\n",
        "print(l[1])"
      ],
      "execution_count": null,
      "outputs": [
        {
          "output_type": "stream",
          "text": [
            "4\n"
          ],
          "name": "stdout"
        }
      ]
    },
    {
      "cell_type": "code",
      "metadata": {
        "colab": {
          "base_uri": "https://localhost:8080/"
        },
        "id": "O9SFzQZzPh8l",
        "outputId": "161e783a-4676-4204-c760-1348ff0b0a80"
      },
      "source": [
        "#(5)write python code to count total number of even and odd elements in list?\n",
        "l=[5,1,0,15,20,25]\n",
        "count=0\n",
        "count1=0\n",
        "for i in l:\n",
        "    if (i%2==0):\n",
        "        count=count+1\n",
        "    else:\n",
        "        count1=count1+1 \n",
        "print(count)\n",
        "print(count1)"
      ],
      "execution_count": null,
      "outputs": [
        {
          "output_type": "stream",
          "text": [
            "2\n",
            "4\n"
          ],
          "name": "stdout"
        }
      ]
    },
    {
      "cell_type": "code",
      "metadata": {
        "colab": {
          "base_uri": "https://localhost:8080/"
        },
        "id": "UsIItFxDStfD",
        "outputId": "387987fd-c37b-4c3b-a212-e2656c21037d"
      },
      "source": [
        "#(6)write a python code to count total number of negative element in list?\n",
        "l=[1,-4,6,-8,5,-1]\n",
        "count=0\n",
        "for i in l:\n",
        "  if (i<0):\n",
        "    count=count+1\n",
        "print(count)\n"
      ],
      "execution_count": null,
      "outputs": [
        {
          "output_type": "stream",
          "text": [
            "3\n"
          ],
          "name": "stdout"
        }
      ]
    },
    {
      "cell_type": "code",
      "metadata": {
        "colab": {
          "base_uri": "https://localhost:8080/"
        },
        "id": "pLoAQ2VcM6v7",
        "outputId": "17f76cab-3f99-4426-fe72-1e004091da89"
      },
      "source": [
        "#(7)write a python code to copy all element from one list to another list?\n",
        "l=[1,2,3,4,5]\n",
        "l1=l.copy()\n",
        "print(l1)"
      ],
      "execution_count": null,
      "outputs": [
        {
          "output_type": "stream",
          "text": [
            "[1, 2, 3, 4, 5]\n"
          ],
          "name": "stdout"
        }
      ]
    },
    {
      "cell_type": "code",
      "metadata": {
        "id": "P8f6rusHVisK",
        "colab": {
          "base_uri": "https://localhost:8080/"
        },
        "outputId": "fbf6591d-cf66-487e-a2a9-0285e238cb14"
      },
      "source": [
        "#(8(a))write a python code to remove the duplicate from a list?\n",
        "l=[1,2,1,4,5,1]\n",
        "l1=[]\n",
        "\n",
        "for i in l:\n",
        "    if (i in l1):\n",
        "        l.remove(i)\n",
        "    else:\n",
        "        l1.append(i)\n",
        "print(l)\n"
      ],
      "execution_count": null,
      "outputs": [
        {
          "output_type": "stream",
          "text": [
            "[2, 4, 5, 1]\n"
          ],
          "name": "stdout"
        }
      ]
    },
    {
      "cell_type": "code",
      "metadata": {
        "id": "Vz5lz11Id7em",
        "colab": {
          "base_uri": "https://localhost:8080/"
        },
        "outputId": "7ff258aa-8b5b-4837-a48d-cf9f8495182e"
      },
      "source": [
        "#(8b)\n",
        "l=[1,2,1,4,]\n",
        "l1=[]\n",
        "for i in l:\n",
        "  if i not in l1:\n",
        "    l1.append(i)\n",
        "print(l1)\n"
      ],
      "execution_count": null,
      "outputs": [
        {
          "output_type": "stream",
          "text": [
            "[1, 2, 4]\n"
          ],
          "name": "stdout"
        }
      ]
    },
    {
      "cell_type": "code",
      "metadata": {
        "colab": {
          "base_uri": "https://localhost:8080/"
        },
        "id": "UqjHelYjjDsF",
        "outputId": "373b9d1b-e2cd-4015-8cbc-bac224c2d6aa"
      },
      "source": [
        "#(9)write python pgm to find the list of words that are longer than given list of words?\n",
        "def longer_words(n,str):\n",
        "    word_list=[]\n",
        "    str1=str.split(\" \")\n",
        "    for i in str1:\n",
        "        if (len(i)>n):\n",
        "            word_list.append(i)\n",
        "    return word_list\n",
        "print(longer_words(5,\"Asha Usha Amruta Jyoti Sana Kavita\"))"
      ],
      "execution_count": null,
      "outputs": [
        {
          "output_type": "stream",
          "text": [
            "['Amruta', 'Kavita']\n"
          ],
          "name": "stdout"
        }
      ]
    },
    {
      "cell_type": "code",
      "metadata": {
        "colab": {
          "base_uri": "https://localhost:8080/"
        },
        "id": "1d0lSC77oRdV",
        "outputId": "10888b96-77ce-4432-85bd-8beccb8ea145"
      },
      "source": [
        "#(11)write a python pgm to get the freq of the element in a list?\n",
        "l=[\"maths\",\"physics\",\"maths\",\"chemistry\",\"physics\",\"physics\"]\n",
        "dict={}\n",
        "for i in l:\n",
        "  if (i in dict):\n",
        "    dict[i]+=1\n",
        "  else:\n",
        "      dict[i]=1\n",
        "\n",
        "for key,value in dict.items():\n",
        "    print(key,\" \",value)"
      ],
      "execution_count": null,
      "outputs": [
        {
          "output_type": "stream",
          "text": [
            "maths   2\n",
            "physics   3\n",
            "chemistry   1\n"
          ],
          "name": "stdout"
        }
      ]
    },
    {
      "cell_type": "code",
      "metadata": {
        "colab": {
          "base_uri": "https://localhost:8080/"
        },
        "id": "HJPEs_hyqh2u",
        "outputId": "09991fea-5102-4564-f6e2-00831c551f59"
      },
      "source": [
        "#(11)=====>using funtion\n",
        "def freq_word(l1):\n",
        "    dict={}\n",
        "    for i in l1:\n",
        "      if i in dict:\n",
        "        dict[i]+=1\n",
        "      else:\n",
        "        dict[i]=1\n",
        "    return dict     \n",
        "\n",
        "\n",
        "l=[\"maths\",\"physics\",\"maths\",\"chemistry\",\"pyhsics\",\"physics\"]\n",
        "print(freq_word(l))  "
      ],
      "execution_count": null,
      "outputs": [
        {
          "output_type": "stream",
          "text": [
            "{'maths': 2, 'physics': 2, 'chemistry': 1, 'pyhsics': 1}\n"
          ],
          "name": "stdout"
        }
      ]
    },
    {
      "cell_type": "code",
      "metadata": {
        "colab": {
          "base_uri": "https://localhost:8080/"
        },
        "id": "aOZoqH0MsqSK",
        "outputId": "dd17c218-5d5e-4a2c-8f5d-6d66582f0e53"
      },
      "source": [
        "#ans(11)=====>another method\n",
        "def freq_word(l1):\n",
        "    dict={}\n",
        "    for i in l1:\n",
        "      if i in dict:\n",
        "        dict[i]+=1\n",
        "      else:\n",
        "        dict[i]=1\n",
        "    return dict     \n",
        "\n",
        "print(\"enter the number of element:\")\n",
        "n=int(input())\n",
        "\n",
        "l=[]\n",
        "\n",
        "print(\"enter the strings\")\n",
        "for i in range(n):\n",
        "  s=input()\n",
        "  l.append(s)\n",
        "\n",
        "print(freq_word(l))  "
      ],
      "execution_count": null,
      "outputs": [
        {
          "output_type": "stream",
          "text": [
            "enter the number of element:\n",
            "5\n",
            "enter the strings\n",
            "maths\n",
            "physics\n",
            "biology\n",
            "arbic\n",
            "arbic\n",
            "{'maths': 1, 'physics': 1, 'biology': 1, 'arbic': 2}\n"
          ],
          "name": "stdout"
        }
      ]
    },
    {
      "cell_type": "code",
      "metadata": {
        "colab": {
          "base_uri": "https://localhost:8080/"
        },
        "id": "R90AMbxCu6WZ",
        "outputId": "087f26e3-c21e-4366-d13d-4ddf413a3c0b"
      },
      "source": [
        "\n",
        "#(12)write a python pgm to find common items from two lists?\n",
        "l1=[\"maths\",\"kannada\",1,\"a\",2]\n",
        "l2=[\"kannada\",\"pysics\",1,\"a\",2]\n",
        "for i in l1:\n",
        "  if (i in l2):\n",
        "    print(i)"
      ],
      "execution_count": null,
      "outputs": [
        {
          "output_type": "stream",
          "text": [
            "kannada\n",
            "1\n",
            "a\n",
            "2\n"
          ],
          "name": "stdout"
        }
      ]
    }
  ]
}